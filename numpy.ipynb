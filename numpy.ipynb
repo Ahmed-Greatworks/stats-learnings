{
 "cells": [
  {
   "cell_type": "code",
   "execution_count": 6,
   "id": "d7f7c9b6-8db9-409f-ac54-b8d4c7bd870a",
   "metadata": {},
   "outputs": [],
   "source": [
    "import numpy as np"
   ]
  },
  {
   "cell_type": "code",
   "execution_count": 7,
   "id": "fe003217-544e-4b7d-9796-45cff4c1cdbb",
   "metadata": {},
   "outputs": [
    {
     "name": "stdout",
     "output_type": "stream",
     "text": [
      "[5 7 9]\n"
     ]
    }
   ],
   "source": [
    "x = np.array([1,2,3])\n",
    "\n",
    "y = np.array([4,5,6])\n",
    "\n",
    "print(x + y)"
   ]
  },
  {
   "cell_type": "code",
   "execution_count": 9,
   "id": "58102b34-0ee4-4191-91c5-77bf615ebc1a",
   "metadata": {},
   "outputs": [
    {
     "name": "stdout",
     "output_type": "stream",
     "text": [
      "[[5 7 9]]\n"
     ]
    }
   ],
   "source": [
    "xx = np.array([[1,2,3]])\n",
    "\n",
    "yy = np.array([[4,5,6]])\n",
    "\n",
    "print(xx + yy)"
   ]
  },
  {
   "cell_type": "code",
   "execution_count": 12,
   "id": "cbf8c7fb-175d-443e-ae10-122be9a184ba",
   "metadata": {},
   "outputs": [
    {
     "data": {
      "text/plain": [
       "1"
      ]
     },
     "execution_count": 12,
     "metadata": {},
     "output_type": "execute_result"
    }
   ],
   "source": [
    "x.ndim"
   ]
  },
  {
   "cell_type": "code",
   "execution_count": 14,
   "id": "33cc03ad-bd5f-4197-823c-ded54a8b7788",
   "metadata": {},
   "outputs": [
    {
     "data": {
      "text/plain": [
       "2"
      ]
     },
     "execution_count": 14,
     "metadata": {},
     "output_type": "execute_result"
    }
   ],
   "source": [
    "xx.ndim"
   ]
  },
  {
   "cell_type": "code",
   "execution_count": 16,
   "id": "d4775aff-0e3e-475a-84f9-c342162e8455",
   "metadata": {},
   "outputs": [
    {
     "data": {
      "text/plain": [
       "dtype('int64')"
      ]
     },
     "execution_count": 16,
     "metadata": {},
     "output_type": "execute_result"
    }
   ],
   "source": [
    "x.dtype"
   ]
  },
  {
   "cell_type": "code",
   "execution_count": 18,
   "id": "2aa84aef-7f3d-4ba7-970a-d93c7dfa9893",
   "metadata": {},
   "outputs": [
    {
     "ename": "AttributeError",
     "evalue": "'numpy.ndarray' object has no attribute 'fun'",
     "output_type": "error",
     "traceback": [
      "\u001b[0;31m---------------------------------------------------------------------------\u001b[0m",
      "\u001b[0;31mAttributeError\u001b[0m                            Traceback (most recent call last)",
      "Cell \u001b[0;32mIn[18], line 1\u001b[0m\n\u001b[0;32m----> 1\u001b[0m x\u001b[38;5;241m.\u001b[39mfun\n",
      "\u001b[0;31mAttributeError\u001b[0m: 'numpy.ndarray' object has no attribute 'fun'"
     ]
    }
   ],
   "source": [
    "x.fun"
   ]
  },
  {
   "cell_type": "code",
   "execution_count": 20,
   "id": "11e4e6c3-d60d-4276-8747-acdff4007860",
   "metadata": {},
   "outputs": [
    {
     "data": {
      "text/plain": [
       "\u001b[0;31mDocstring:\u001b[0m\n",
       "array(object, dtype=None, *, copy=True, order='K', subok=False, ndmin=0,\n",
       "      like=None)\n",
       "\n",
       "Create an array.\n",
       "\n",
       "Parameters\n",
       "----------\n",
       "object : array_like\n",
       "    An array, any object exposing the array interface, an object whose\n",
       "    ``__array__`` method returns an array, or any (nested) sequence.\n",
       "    If object is a scalar, a 0-dimensional array containing object is\n",
       "    returned.\n",
       "dtype : data-type, optional\n",
       "    The desired data-type for the array. If not given, NumPy will try to use\n",
       "    a default ``dtype`` that can represent the values (by applying promotion\n",
       "    rules when necessary.)\n",
       "copy : bool, optional\n",
       "    If true (default), then the object is copied.  Otherwise, a copy will\n",
       "    only be made if ``__array__`` returns a copy, if obj is a nested\n",
       "    sequence, or if a copy is needed to satisfy any of the other\n",
       "    requirements (``dtype``, ``order``, etc.).\n",
       "order : {'K', 'A', 'C', 'F'}, optional\n",
       "    Specify the memory layout of the array. If object is not an array, the\n",
       "    newly created array will be in C order (row major) unless 'F' is\n",
       "    specified, in which case it will be in Fortran order (column major).\n",
       "    If object is an array the following holds.\n",
       "\n",
       "    ===== ========= ===================================================\n",
       "    order  no copy                     copy=True\n",
       "    ===== ========= ===================================================\n",
       "    'K'   unchanged F & C order preserved, otherwise most similar order\n",
       "    'A'   unchanged F order if input is F and not C, otherwise C order\n",
       "    'C'   C order   C order\n",
       "    'F'   F order   F order\n",
       "    ===== ========= ===================================================\n",
       "\n",
       "    When ``copy=False`` and a copy is made for other reasons, the result is\n",
       "    the same as if ``copy=True``, with some exceptions for 'A', see the\n",
       "    Notes section. The default order is 'K'.\n",
       "subok : bool, optional\n",
       "    If True, then sub-classes will be passed-through, otherwise\n",
       "    the returned array will be forced to be a base-class array (default).\n",
       "ndmin : int, optional\n",
       "    Specifies the minimum number of dimensions that the resulting\n",
       "    array should have.  Ones will be prepended to the shape as\n",
       "    needed to meet this requirement.\n",
       "like : array_like, optional\n",
       "    Reference object to allow the creation of arrays which are not\n",
       "    NumPy arrays. If an array-like passed in as ``like`` supports\n",
       "    the ``__array_function__`` protocol, the result will be defined\n",
       "    by it. In this case, it ensures the creation of an array object\n",
       "    compatible with that passed in via this argument.\n",
       "\n",
       "    .. versionadded:: 1.20.0\n",
       "\n",
       "Returns\n",
       "-------\n",
       "out : ndarray\n",
       "    An array object satisfying the specified requirements.\n",
       "\n",
       "See Also\n",
       "--------\n",
       "empty_like : Return an empty array with shape and type of input.\n",
       "ones_like : Return an array of ones with shape and type of input.\n",
       "zeros_like : Return an array of zeros with shape and type of input.\n",
       "full_like : Return a new array with shape of input filled with value.\n",
       "empty : Return a new uninitialized array.\n",
       "ones : Return a new array setting values to one.\n",
       "zeros : Return a new array setting values to zero.\n",
       "full : Return a new array of given shape filled with value.\n",
       "\n",
       "\n",
       "Notes\n",
       "-----\n",
       "When order is 'A' and ``object`` is an array in neither 'C' nor 'F' order,\n",
       "and a copy is forced by a change in dtype, then the order of the result is\n",
       "not necessarily 'C' as expected. This is likely a bug.\n",
       "\n",
       "Examples\n",
       "--------\n",
       ">>> np.array([1, 2, 3])\n",
       "array([1, 2, 3])\n",
       "\n",
       "Upcasting:\n",
       "\n",
       ">>> np.array([1, 2, 3.0])\n",
       "array([ 1.,  2.,  3.])\n",
       "\n",
       "More than one dimension:\n",
       "\n",
       ">>> np.array([[1, 2], [3, 4]])\n",
       "array([[1, 2],\n",
       "       [3, 4]])\n",
       "\n",
       "Minimum dimensions 2:\n",
       "\n",
       ">>> np.array([1, 2, 3], ndmin=2)\n",
       "array([[1, 2, 3]])\n",
       "\n",
       "Type provided:\n",
       "\n",
       ">>> np.array([1, 2, 3], dtype=complex)\n",
       "array([ 1.+0.j,  2.+0.j,  3.+0.j])\n",
       "\n",
       "Data-type consisting of more than one element:\n",
       "\n",
       ">>> x = np.array([(1,2),(3,4)],dtype=[('a','<i4'),('b','<i4')])\n",
       ">>> x['a']\n",
       "array([1, 3])\n",
       "\n",
       "Creating an array from sub-classes:\n",
       "\n",
       ">>> np.array(np.mat('1 2; 3 4'))\n",
       "array([[1, 2],\n",
       "       [3, 4]])\n",
       "\n",
       ">>> np.array(np.mat('1 2; 3 4'), subok=True)\n",
       "matrix([[1, 2],\n",
       "        [3, 4]])\n",
       "\u001b[0;31mType:\u001b[0m      builtin_function_or_method"
      ]
     },
     "metadata": {},
     "output_type": "display_data"
    }
   ],
   "source": [
    "np.array?"
   ]
  },
  {
   "cell_type": "code",
   "execution_count": 22,
   "id": "c34b9db7-1d12-4137-9168-ba9d519b98be",
   "metadata": {},
   "outputs": [
    {
     "data": {
      "text/plain": [
       "(3,)"
      ]
     },
     "execution_count": 22,
     "metadata": {},
     "output_type": "execute_result"
    }
   ],
   "source": [
    "x.shape"
   ]
  },
  {
   "cell_type": "code",
   "execution_count": 24,
   "id": "9b228d76-4881-4eb6-b645-29cc446d76cd",
   "metadata": {},
   "outputs": [
    {
     "data": {
      "text/plain": [
       "(1, 3)"
      ]
     },
     "execution_count": 24,
     "metadata": {},
     "output_type": "execute_result"
    }
   ],
   "source": [
    "xx.shape"
   ]
  },
  {
   "cell_type": "code",
   "execution_count": 26,
   "id": "59e61b72-5b13-49b4-b1cf-8b4106eddaaa",
   "metadata": {
    "editable": true,
    "slideshow": {
     "slide_type": ""
    },
    "tags": []
   },
   "outputs": [
    {
     "data": {
      "text/plain": [
       "15"
      ]
     },
     "execution_count": 26,
     "metadata": {},
     "output_type": "execute_result"
    }
   ],
   "source": [
    "y.sum()"
   ]
  },
  {
   "cell_type": "code",
   "execution_count": 8,
   "id": "c17d1378-85e6-4c4f-8ec8-6b13bf1fb3ec",
   "metadata": {},
   "outputs": [
    {
     "name": "stdout",
     "output_type": "stream",
     "text": [
      "beginning x:\n",
      " [1 2 3 4 5 6]\n",
      "reshaped x:\n",
      " [[1 2 3]\n",
      " [4 5 6]]\n",
      "Back to one dimension [1 2 3 4 5 6]\n"
     ]
    }
   ],
   "source": [
    "x = np.array([1,2,3,4,5,6])\n",
    "print('beginning x:\\n', x)\n",
    "x_reshape = x.reshape((2, 3)) \n",
    "print('reshaped x:\\n', x_reshape)\n",
    "\n",
    "re_x = x_reshape.reshape([-1,])\n",
    "print(\"Back to one dimension\", re_x)"
   ]
  },
  {
   "cell_type": "code",
   "execution_count": 36,
   "id": "c5076cd6-4bb9-4fad-bed0-27f77bdc6813",
   "metadata": {},
   "outputs": [
    {
     "data": {
      "text/plain": [
       "\u001b[0;31mDocstring:\u001b[0m\n",
       "a.sum(axis=None, dtype=None, out=None, keepdims=False, initial=0, where=True)\n",
       "\n",
       "Return the sum of the array elements over the given axis.\n",
       "\n",
       "Refer to `numpy.sum` for full documentation.\n",
       "\n",
       "See Also\n",
       "--------\n",
       "numpy.sum : equivalent function\n",
       "\u001b[0;31mType:\u001b[0m      builtin_function_or_method"
      ]
     },
     "metadata": {},
     "output_type": "display_data"
    }
   ],
   "source": [
    "x.sum?"
   ]
  },
  {
   "cell_type": "code",
   "execution_count": 10,
   "id": "6a259738-8aa4-4f05-8e7e-9cdc33666504",
   "metadata": {},
   "outputs": [
    {
     "data": {
      "text/plain": [
       "array([1.        , 1.41421356, 1.73205081, 2.        , 2.23606798,\n",
       "       2.44948974])"
      ]
     },
     "execution_count": 10,
     "metadata": {},
     "output_type": "execute_result"
    }
   ],
   "source": [
    "np.sqrt(x)"
   ]
  },
  {
   "cell_type": "code",
   "execution_count": 12,
   "id": "32667d69-2a0c-418c-9b64-f46d758aba20",
   "metadata": {},
   "outputs": [
    {
     "data": {
      "text/plain": [
       "array([ 1,  4,  9, 16, 25, 36])"
      ]
     },
     "execution_count": 12,
     "metadata": {},
     "output_type": "execute_result"
    }
   ],
   "source": [
    "x ** 2"
   ]
  },
  {
   "cell_type": "code",
   "execution_count": 14,
   "id": "0e46c978-8100-464e-9541-0b7e33717fe4",
   "metadata": {},
   "outputs": [
    {
     "data": {
      "text/plain": [
       "\u001b[0;31mDocstring:\u001b[0m\n",
       "normal(loc=0.0, scale=1.0, size=None)\n",
       "\n",
       "Draw random samples from a normal (Gaussian) distribution.\n",
       "\n",
       "The probability density function of the normal distribution, first\n",
       "derived by De Moivre and 200 years later by both Gauss and Laplace\n",
       "independently [2]_, is often called the bell curve because of\n",
       "its characteristic shape (see the example below).\n",
       "\n",
       "The normal distributions occurs often in nature.  For example, it\n",
       "describes the commonly occurring distribution of samples influenced\n",
       "by a large number of tiny, random disturbances, each with its own\n",
       "unique distribution [2]_.\n",
       "\n",
       ".. note::\n",
       "    New code should use the `~numpy.random.Generator.normal`\n",
       "    method of a `~numpy.random.Generator` instance instead;\n",
       "    please see the :ref:`random-quick-start`.\n",
       "\n",
       "Parameters\n",
       "----------\n",
       "loc : float or array_like of floats\n",
       "    Mean (\"centre\") of the distribution.\n",
       "scale : float or array_like of floats\n",
       "    Standard deviation (spread or \"width\") of the distribution. Must be\n",
       "    non-negative.\n",
       "size : int or tuple of ints, optional\n",
       "    Output shape.  If the given shape is, e.g., ``(m, n, k)``, then\n",
       "    ``m * n * k`` samples are drawn.  If size is ``None`` (default),\n",
       "    a single value is returned if ``loc`` and ``scale`` are both scalars.\n",
       "    Otherwise, ``np.broadcast(loc, scale).size`` samples are drawn.\n",
       "\n",
       "Returns\n",
       "-------\n",
       "out : ndarray or scalar\n",
       "    Drawn samples from the parameterized normal distribution.\n",
       "\n",
       "See Also\n",
       "--------\n",
       "scipy.stats.norm : probability density function, distribution or\n",
       "    cumulative density function, etc.\n",
       "random.Generator.normal: which should be used for new code.\n",
       "\n",
       "Notes\n",
       "-----\n",
       "The probability density for the Gaussian distribution is\n",
       "\n",
       ".. math:: p(x) = \\frac{1}{\\sqrt{ 2 \\pi \\sigma^2 }}\n",
       "                 e^{ - \\frac{ (x - \\mu)^2 } {2 \\sigma^2} },\n",
       "\n",
       "where :math:`\\mu` is the mean and :math:`\\sigma` the standard\n",
       "deviation. The square of the standard deviation, :math:`\\sigma^2`,\n",
       "is called the variance.\n",
       "\n",
       "The function has its peak at the mean, and its \"spread\" increases with\n",
       "the standard deviation (the function reaches 0.607 times its maximum at\n",
       ":math:`x + \\sigma` and :math:`x - \\sigma` [2]_).  This implies that\n",
       "normal is more likely to return samples lying close to the mean, rather\n",
       "than those far away.\n",
       "\n",
       "References\n",
       "----------\n",
       ".. [1] Wikipedia, \"Normal distribution\",\n",
       "       https://en.wikipedia.org/wiki/Normal_distribution\n",
       ".. [2] P. R. Peebles Jr., \"Central Limit Theorem\" in \"Probability,\n",
       "       Random Variables and Random Signal Principles\", 4th ed., 2001,\n",
       "       pp. 51, 51, 125.\n",
       "\n",
       "Examples\n",
       "--------\n",
       "Draw samples from the distribution:\n",
       "\n",
       ">>> mu, sigma = 0, 0.1 # mean and standard deviation\n",
       ">>> s = np.random.normal(mu, sigma, 1000)\n",
       "\n",
       "Verify the mean and the variance:\n",
       "\n",
       ">>> abs(mu - np.mean(s))\n",
       "0.0  # may vary\n",
       "\n",
       ">>> abs(sigma - np.std(s, ddof=1))\n",
       "0.1  # may vary\n",
       "\n",
       "Display the histogram of the samples, along with\n",
       "the probability density function:\n",
       "\n",
       ">>> import matplotlib.pyplot as plt\n",
       ">>> count, bins, ignored = plt.hist(s, 30, density=True)\n",
       ">>> plt.plot(bins, 1/(sigma * np.sqrt(2 * np.pi)) *\n",
       "...                np.exp( - (bins - mu)**2 / (2 * sigma**2) ),\n",
       "...          linewidth=2, color='r')\n",
       ">>> plt.show()\n",
       "\n",
       "Two-by-four array of samples from the normal distribution with\n",
       "mean 3 and standard deviation 2.5:\n",
       "\n",
       ">>> np.random.normal(3, 2.5, size=(2, 4))\n",
       "array([[-4.49401501,  4.00950034, -1.81814867,  7.29718677],   # random\n",
       "       [ 0.39924804,  4.68456316,  4.99394529,  4.84057254]])  # random\n",
       "\u001b[0;31mType:\u001b[0m      builtin_function_or_method"
      ]
     },
     "metadata": {},
     "output_type": "display_data"
    }
   ],
   "source": [
    "np.random.normal?"
   ]
  },
  {
   "cell_type": "code",
   "execution_count": 16,
   "id": "f98a1066-fb7d-4375-8253-c050ca5f4627",
   "metadata": {},
   "outputs": [
    {
     "data": {
      "text/plain": [
       "array([-0.33595634, -1.04710942,  0.68274178, -0.7966354 , -0.17813175,\n",
       "        1.24981109, -0.30213259,  1.03658323, -1.33245549, -0.79357092,\n",
       "       -1.11361627,  0.45424017,  0.65514923, -0.94014348,  0.71638461,\n",
       "        0.91012866, -1.00315191, -0.34178039, -0.63783886, -0.4036607 ,\n",
       "        0.01230157, -1.1999954 , -0.46161406, -0.26077402, -0.23041416,\n",
       "        1.03645327, -0.5852009 , -0.40019371, -0.90038173, -1.5209668 ,\n",
       "       -0.10916715, -0.44681632,  0.19991195, -1.92146738, -0.60709493,\n",
       "        0.41155191,  0.220723  , -2.25541528, -1.13734643, -0.86521582,\n",
       "       -0.52993974, -1.73858305, -2.35346005,  1.19266252, -0.962557  ,\n",
       "       -0.56395346, -0.14906187, -2.29859182,  0.56462369,  0.5409975 ])"
      ]
     },
     "execution_count": 16,
     "metadata": {},
     "output_type": "execute_result"
    }
   ],
   "source": [
    "rand = np.random.normal(size=50)\n",
    "rand"
   ]
  },
  {
   "cell_type": "code",
   "execution_count": 20,
   "id": "87da6450-ace5-43e9-a27a-46299159f53b",
   "metadata": {},
   "outputs": [
    {
     "data": {
      "text/plain": [
       "array([ 1.85633426,  0.27029613,  1.29179937,  0.40907396, -1.87828084,\n",
       "       -0.0060003 ,  0.01658343, -0.84120637,  0.31893058, -0.5055761 ,\n",
       "        0.89337235,  0.08354106,  0.7761576 , -2.83577546,  0.74937957,\n",
       "        0.54105885,  2.14959684, -2.35154555, -0.24779966, -0.34977082,\n",
       "        1.96010969, -0.30546564,  1.26823486, -0.46686212, -0.45971083,\n",
       "        0.73322558, -0.8002378 ,  0.12153177,  1.51267685, -0.10666248,\n",
       "        1.89928842, -1.12241261,  2.53936057,  0.98346215, -0.91458555,\n",
       "        0.04416434, -0.59414888, -0.87322558,  1.16407479,  0.3960747 ,\n",
       "       -0.46196537,  0.52779228,  0.11038006,  0.53395692,  0.73311013,\n",
       "       -0.92687377,  0.26130962,  1.04748747,  1.05539185,  1.80093214])"
      ]
     },
     "execution_count": 20,
     "metadata": {},
     "output_type": "execute_result"
    }
   ],
   "source": [
    "rand = np.random.normal(size=50)\n",
    "rand"
   ]
  },
  {
   "cell_type": "code",
   "execution_count": 30,
   "id": "4f58996d-bb0e-46c8-bd63-f28999f3bfde",
   "metadata": {},
   "outputs": [],
   "source": [
    "y = rand + np.random.normal(loc=50, scale=1, size=50)"
   ]
  },
  {
   "cell_type": "code",
   "execution_count": 32,
   "id": "dd435c37-6944-4984-9d0a-ce14ce5ab6b5",
   "metadata": {},
   "outputs": [
    {
     "data": {
      "text/plain": [
       "\u001b[0;31mSignature:\u001b[0m      \n",
       "\u001b[0mnp\u001b[0m\u001b[0;34m.\u001b[0m\u001b[0mcorrcoef\u001b[0m\u001b[0;34m(\u001b[0m\u001b[0;34m\u001b[0m\n",
       "\u001b[0;34m\u001b[0m    \u001b[0mx\u001b[0m\u001b[0;34m,\u001b[0m\u001b[0;34m\u001b[0m\n",
       "\u001b[0;34m\u001b[0m    \u001b[0my\u001b[0m\u001b[0;34m=\u001b[0m\u001b[0;32mNone\u001b[0m\u001b[0;34m,\u001b[0m\u001b[0;34m\u001b[0m\n",
       "\u001b[0;34m\u001b[0m    \u001b[0mrowvar\u001b[0m\u001b[0;34m=\u001b[0m\u001b[0;32mTrue\u001b[0m\u001b[0;34m,\u001b[0m\u001b[0;34m\u001b[0m\n",
       "\u001b[0;34m\u001b[0m    \u001b[0mbias\u001b[0m\u001b[0;34m=\u001b[0m\u001b[0;34m<\u001b[0m\u001b[0mno\u001b[0m \u001b[0mvalue\u001b[0m\u001b[0;34m>\u001b[0m\u001b[0;34m,\u001b[0m\u001b[0;34m\u001b[0m\n",
       "\u001b[0;34m\u001b[0m    \u001b[0mddof\u001b[0m\u001b[0;34m=\u001b[0m\u001b[0;34m<\u001b[0m\u001b[0mno\u001b[0m \u001b[0mvalue\u001b[0m\u001b[0;34m>\u001b[0m\u001b[0;34m,\u001b[0m\u001b[0;34m\u001b[0m\n",
       "\u001b[0;34m\u001b[0m    \u001b[0;34m*\u001b[0m\u001b[0;34m,\u001b[0m\u001b[0;34m\u001b[0m\n",
       "\u001b[0;34m\u001b[0m    \u001b[0mdtype\u001b[0m\u001b[0;34m=\u001b[0m\u001b[0;32mNone\u001b[0m\u001b[0;34m,\u001b[0m\u001b[0;34m\u001b[0m\n",
       "\u001b[0;34m\u001b[0m\u001b[0;34m)\u001b[0m\u001b[0;34m\u001b[0m\u001b[0;34m\u001b[0m\u001b[0m\n",
       "\u001b[0;31mCall signature:\u001b[0m  \u001b[0mnp\u001b[0m\u001b[0;34m.\u001b[0m\u001b[0mcorrcoef\u001b[0m\u001b[0;34m(\u001b[0m\u001b[0;34m*\u001b[0m\u001b[0margs\u001b[0m\u001b[0;34m,\u001b[0m \u001b[0;34m**\u001b[0m\u001b[0mkwargs\u001b[0m\u001b[0;34m)\u001b[0m\u001b[0;34m\u001b[0m\u001b[0;34m\u001b[0m\u001b[0m\n",
       "\u001b[0;31mType:\u001b[0m            _ArrayFunctionDispatcher\n",
       "\u001b[0;31mString form:\u001b[0m     <function corrcoef at 0x106f8db20>\n",
       "\u001b[0;31mFile:\u001b[0m            /opt/anaconda3/lib/python3.12/site-packages/numpy/lib/function_base.py\n",
       "\u001b[0;31mDocstring:\u001b[0m      \n",
       "Return Pearson product-moment correlation coefficients.\n",
       "\n",
       "Please refer to the documentation for `cov` for more detail.  The\n",
       "relationship between the correlation coefficient matrix, `R`, and the\n",
       "covariance matrix, `C`, is\n",
       "\n",
       ".. math:: R_{ij} = \\frac{ C_{ij} } { \\sqrt{ C_{ii} C_{jj} } }\n",
       "\n",
       "The values of `R` are between -1 and 1, inclusive.\n",
       "\n",
       "Parameters\n",
       "----------\n",
       "x : array_like\n",
       "    A 1-D or 2-D array containing multiple variables and observations.\n",
       "    Each row of `x` represents a variable, and each column a single\n",
       "    observation of all those variables. Also see `rowvar` below.\n",
       "y : array_like, optional\n",
       "    An additional set of variables and observations. `y` has the same\n",
       "    shape as `x`.\n",
       "rowvar : bool, optional\n",
       "    If `rowvar` is True (default), then each row represents a\n",
       "    variable, with observations in the columns. Otherwise, the relationship\n",
       "    is transposed: each column represents a variable, while the rows\n",
       "    contain observations.\n",
       "bias : _NoValue, optional\n",
       "    Has no effect, do not use.\n",
       "\n",
       "    .. deprecated:: 1.10.0\n",
       "ddof : _NoValue, optional\n",
       "    Has no effect, do not use.\n",
       "\n",
       "    .. deprecated:: 1.10.0\n",
       "dtype : data-type, optional\n",
       "    Data-type of the result. By default, the return data-type will have\n",
       "    at least `numpy.float64` precision.\n",
       "\n",
       "    .. versionadded:: 1.20\n",
       "\n",
       "Returns\n",
       "-------\n",
       "R : ndarray\n",
       "    The correlation coefficient matrix of the variables.\n",
       "\n",
       "See Also\n",
       "--------\n",
       "cov : Covariance matrix\n",
       "\n",
       "Notes\n",
       "-----\n",
       "Due to floating point rounding the resulting array may not be Hermitian,\n",
       "the diagonal elements may not be 1, and the elements may not satisfy the\n",
       "inequality abs(a) <= 1. The real and imaginary parts are clipped to the\n",
       "interval [-1,  1] in an attempt to improve on that situation but is not\n",
       "much help in the complex case.\n",
       "\n",
       "This function accepts but discards arguments `bias` and `ddof`.  This is\n",
       "for backwards compatibility with previous versions of this function.  These\n",
       "arguments had no effect on the return values of the function and can be\n",
       "safely ignored in this and previous versions of numpy.\n",
       "\n",
       "Examples\n",
       "--------\n",
       "In this example we generate two random arrays, ``xarr`` and ``yarr``, and\n",
       "compute the row-wise and column-wise Pearson correlation coefficients,\n",
       "``R``. Since ``rowvar`` is  true by  default, we first find the row-wise\n",
       "Pearson correlation coefficients between the variables of ``xarr``.\n",
       "\n",
       ">>> import numpy as np\n",
       ">>> rng = np.random.default_rng(seed=42)\n",
       ">>> xarr = rng.random((3, 3))\n",
       ">>> xarr\n",
       "array([[0.77395605, 0.43887844, 0.85859792],\n",
       "       [0.69736803, 0.09417735, 0.97562235],\n",
       "       [0.7611397 , 0.78606431, 0.12811363]])\n",
       ">>> R1 = np.corrcoef(xarr)\n",
       ">>> R1\n",
       "array([[ 1.        ,  0.99256089, -0.68080986],\n",
       "       [ 0.99256089,  1.        , -0.76492172],\n",
       "       [-0.68080986, -0.76492172,  1.        ]])\n",
       "\n",
       "If we add another set of variables and observations ``yarr``, we can\n",
       "compute the row-wise Pearson correlation coefficients between the\n",
       "variables in ``xarr`` and ``yarr``.\n",
       "\n",
       ">>> yarr = rng.random((3, 3))\n",
       ">>> yarr\n",
       "array([[0.45038594, 0.37079802, 0.92676499],\n",
       "       [0.64386512, 0.82276161, 0.4434142 ],\n",
       "       [0.22723872, 0.55458479, 0.06381726]])\n",
       ">>> R2 = np.corrcoef(xarr, yarr)\n",
       ">>> R2\n",
       "array([[ 1.        ,  0.99256089, -0.68080986,  0.75008178, -0.934284  ,\n",
       "        -0.99004057],\n",
       "       [ 0.99256089,  1.        , -0.76492172,  0.82502011, -0.97074098,\n",
       "        -0.99981569],\n",
       "       [-0.68080986, -0.76492172,  1.        , -0.99507202,  0.89721355,\n",
       "         0.77714685],\n",
       "       [ 0.75008178,  0.82502011, -0.99507202,  1.        , -0.93657855,\n",
       "        -0.83571711],\n",
       "       [-0.934284  , -0.97074098,  0.89721355, -0.93657855,  1.        ,\n",
       "         0.97517215],\n",
       "       [-0.99004057, -0.99981569,  0.77714685, -0.83571711,  0.97517215,\n",
       "         1.        ]])\n",
       "\n",
       "Finally if we use the option ``rowvar=False``, the columns are now\n",
       "being treated as the variables and we will find the column-wise Pearson\n",
       "correlation coefficients between variables in ``xarr`` and ``yarr``.\n",
       "\n",
       ">>> R3 = np.corrcoef(xarr, yarr, rowvar=False)\n",
       ">>> R3\n",
       "array([[ 1.        ,  0.77598074, -0.47458546, -0.75078643, -0.9665554 ,\n",
       "         0.22423734],\n",
       "       [ 0.77598074,  1.        , -0.92346708, -0.99923895, -0.58826587,\n",
       "        -0.44069024],\n",
       "       [-0.47458546, -0.92346708,  1.        ,  0.93773029,  0.23297648,\n",
       "         0.75137473],\n",
       "       [-0.75078643, -0.99923895,  0.93773029,  1.        ,  0.55627469,\n",
       "         0.47536961],\n",
       "       [-0.9665554 , -0.58826587,  0.23297648,  0.55627469,  1.        ,\n",
       "        -0.46666491],\n",
       "       [ 0.22423734, -0.44069024,  0.75137473,  0.47536961, -0.46666491,\n",
       "         1.        ]])\n",
       "\u001b[0;31mClass docstring:\u001b[0m\n",
       "Class to wrap functions with checks for __array_function__ overrides.\n",
       "\n",
       "All arguments are required, and can only be passed by position.\n",
       "\n",
       "Parameters\n",
       "----------\n",
       "dispatcher : function or None\n",
       "    The dispatcher function that returns a single sequence-like object\n",
       "    of all arguments relevant.  It must have the same signature (except\n",
       "    the default values) as the actual implementation.\n",
       "    If ``None``, this is a ``like=`` dispatcher and the\n",
       "    ``_ArrayFunctionDispatcher`` must be called with ``like`` as the\n",
       "    first (additional and positional) argument.\n",
       "implementation : function\n",
       "    Function that implements the operation on NumPy arrays without\n",
       "    overrides.  Arguments passed calling the ``_ArrayFunctionDispatcher``\n",
       "    will be forwarded to this (and the ``dispatcher``) as if using\n",
       "    ``*args, **kwargs``.\n",
       "\n",
       "Attributes\n",
       "----------\n",
       "_implementation : function\n",
       "    The original implementation passed in."
      ]
     },
     "metadata": {},
     "output_type": "display_data"
    }
   ],
   "source": [
    "np.corrcoef?"
   ]
  },
  {
   "cell_type": "code",
   "execution_count": 34,
   "id": "29bdc08d-5107-4d3e-8de3-bdf6c135949e",
   "metadata": {},
   "outputs": [
    {
     "data": {
      "text/plain": [
       "array([[1.        , 0.69714076],\n",
       "       [0.69714076, 1.        ]])"
      ]
     },
     "execution_count": 34,
     "metadata": {},
     "output_type": "execute_result"
    }
   ],
   "source": [
    "np.corrcoef(rand, y)"
   ]
  },
  {
   "cell_type": "code",
   "execution_count": 38,
   "id": "70864244-f37e-4ddf-b004-4f16bde68bba",
   "metadata": {},
   "outputs": [
    {
     "name": "stdout",
     "output_type": "stream",
     "text": [
      "[5.20368612 3.40671324]\n",
      "[ 6.68026239 12.18599498]\n"
     ]
    }
   ],
   "source": [
    "print(np.random.normal(scale=5, size=2))\n",
    "print(np.random.normal(scale=5, size=2))"
   ]
  },
  {
   "cell_type": "code",
   "execution_count": 46,
   "id": "5942dff8-2dc2-498c-a448-462f74bea1a9",
   "metadata": {},
   "outputs": [
    {
     "name": "stdout",
     "output_type": "stream",
     "text": [
      "[ 4.09482632 -1.07485605]\n",
      "[ 4.09482632 -1.07485605]\n"
     ]
    }
   ],
   "source": [
    "rng1 = np.random.default_rng(1303)\n",
    "print(rng1.normal(scale=5, size=2))\n",
    "rng2 = np.random.default_rng(1303)\n",
    "print(rng2.normal(scale=5, size=2))"
   ]
  },
  {
   "cell_type": "code",
   "execution_count": 48,
   "id": "063281fd-5951-484b-b702-196181f373b8",
   "metadata": {},
   "outputs": [
    {
     "data": {
      "text/plain": [
       "(-0.1126795190952861, -0.1126795190952861)"
      ]
     },
     "execution_count": 48,
     "metadata": {},
     "output_type": "execute_result"
    }
   ],
   "source": [
    "rng = np.random.default_rng(3)\n",
    "y = rng.standard_normal(10)\n",
    "np.mean(y), y.mean()"
   ]
  },
  {
   "cell_type": "code",
   "execution_count": 50,
   "id": "c076fdcf-cbeb-4fbd-8954-93eddd6466be",
   "metadata": {},
   "outputs": [
    {
     "data": {
      "text/plain": [
       "(2.7243406406465125, 2.7243406406465125, 2.7243406406465125)"
      ]
     },
     "execution_count": 50,
     "metadata": {},
     "output_type": "execute_result"
    }
   ],
   "source": [
    "np.var(y), y.var(), np.mean((y - y.mean()) ** 2)"
   ]
  },
  {
   "cell_type": "code",
   "execution_count": 52,
   "id": "a777e0ce-a55c-4ef7-824b-e1dea277b31d",
   "metadata": {},
   "outputs": [
    {
     "data": {
      "text/plain": [
       "array([[ 0.22578661, -0.35263079, -0.28128742],\n",
       "       [-0.66804635, -1.05515055, -0.39080098],\n",
       "       [ 0.48194539, -0.23855361,  0.9577587 ],\n",
       "       [-0.19980213,  0.02425957,  1.54582085],\n",
       "       [ 0.54510552, -0.50522874, -0.18283897],\n",
       "       [ 0.54052513,  1.93508803, -0.26962033],\n",
       "       [-0.24355868,  1.0023136 , -0.88645994],\n",
       "       [-0.29172023,  0.88253897,  0.58035002],\n",
       "       [ 0.0915167 ,  0.67010435, -2.82816231],\n",
       "       [ 1.02130682, -0.95964476, -1.66861984]])"
      ]
     },
     "execution_count": 52,
     "metadata": {},
     "output_type": "execute_result"
    }
   ],
   "source": [
    "X = rng.standard_normal((10, 3))\n",
    "X"
   ]
  },
  {
   "cell_type": "code",
   "execution_count": 54,
   "id": "6877e6f1-422c-4d5c-96b6-d322faf402e6",
   "metadata": {},
   "outputs": [
    {
     "data": {
      "text/plain": [
       "(10, 3)"
      ]
     },
     "execution_count": 54,
     "metadata": {},
     "output_type": "execute_result"
    }
   ],
   "source": [
    "X.shape"
   ]
  },
  {
   "cell_type": "code",
   "execution_count": 56,
   "id": "83c11856-31f0-456f-ad5d-bdae4b07ecac",
   "metadata": {},
   "outputs": [
    {
     "data": {
      "text/plain": [
       "array([ 0.15030588,  0.14030961, -0.34238602])"
      ]
     },
     "execution_count": 56,
     "metadata": {},
     "output_type": "execute_result"
    }
   ],
   "source": [
    "X.mean(axis=0)"
   ]
  },
  {
   "cell_type": "code",
   "execution_count": 61,
   "id": "3a482994-b29a-47d4-882c-a51cbaeb01d2",
   "metadata": {},
   "outputs": [
    {
     "data": {
      "text/plain": [
       "array([-0.93058888,  0.48127449,  2.46313203, -0.24613355, -0.55586578,\n",
       "       -1.17115683, -1.33501096,  0.52498323,  0.85080303,  0.00917472,\n",
       "        0.33257599,  0.11591658,  0.13865485, -1.52615905, -0.45811827,\n",
       "        0.11147931, -0.78316678, -0.47642974, -0.81912018, -0.33349667,\n",
       "        0.85310827, -0.40658035, -0.15387068,  0.81371836,  0.64477021,\n",
       "        1.69520756, -2.09048508,  0.85685894, -0.48228409,  0.13469182,\n",
       "        0.83771938,  1.08325316,  1.03935069,  0.15510669,  1.60966268,\n",
       "       -0.28297423, -0.14098191,  0.79935119, -0.55137241,  2.16090626,\n",
       "        1.01920657,  2.17557532, -0.02658919, -0.38308855,  0.167048  ,\n",
       "        0.7345765 , -0.58742769,  0.37970175, -0.01680428,  1.61568176,\n",
       "       -0.66270181,  1.04616177, -0.64386354, -0.96063419, -0.71029943,\n",
       "       -1.19018586,  0.14635036,  1.0312608 ,  0.16431488,  0.62432511,\n",
       "        1.6321742 ,  0.27002645,  0.19516236, -0.27506147, -1.60824229,\n",
       "        0.75973893, -1.75646045,  0.65267644, -0.01432034,  1.12678145,\n",
       "       -0.06777026, -0.82320016,  0.35791027, -0.56023614, -0.18095682,\n",
       "        0.04187079, -0.13454971, -0.18880227, -0.83244499, -0.18913378,\n",
       "       -2.13834061, -0.1573321 , -1.19805599,  1.12026369,  1.26992675,\n",
       "       -1.95102578,  0.14491679, -0.12636392, -1.04671563,  0.53165314,\n",
       "       -0.46168954, -1.7675991 , -0.26667665, -0.14825312,  0.10643102,\n",
       "       -1.231233  ,  0.61568093,  0.73545709, -1.14582728, -0.65885557])"
      ]
     },
     "execution_count": 61,
     "metadata": {},
     "output_type": "execute_result"
    }
   ],
   "source": [
    "x = rng.standard_normal(100)\n",
    "x"
   ]
  },
  {
   "cell_type": "code",
   "execution_count": null,
   "id": "edf61587-f28f-49da-8a1d-c1cfa046a56e",
   "metadata": {},
   "outputs": [],
   "source": []
  }
 ],
 "metadata": {
  "kernelspec": {
   "display_name": "Python 3 (ipykernel)",
   "language": "python",
   "name": "python3"
  },
  "language_info": {
   "codemirror_mode": {
    "name": "ipython",
    "version": 3
   },
   "file_extension": ".py",
   "mimetype": "text/x-python",
   "name": "python",
   "nbconvert_exporter": "python",
   "pygments_lexer": "ipython3",
   "version": "3.12.4"
  }
 },
 "nbformat": 4,
 "nbformat_minor": 5
}
