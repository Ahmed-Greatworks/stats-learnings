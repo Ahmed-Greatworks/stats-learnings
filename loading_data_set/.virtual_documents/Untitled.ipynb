import pandas as pd
import numpy as np


rng = np.random.default_rng(1)
A = rng.standard_normal((127, 5))
M = rng.choice([0, np.nan], p=[0.8, 0.2], size=A.shape)
A += M
D =  pd.DataFrame(A, columns=['food','bar','pickle','snack','popcorn'])

A[:3]


D.columns



