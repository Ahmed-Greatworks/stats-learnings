import pandas as pd

auto = pd.read_csv('Auto.csv')

auto


auto['horsepower']


import numpy as np
np.unique(auto['horsepower'])


Auto = pd.read_csv('Auto.csv', na_values=['?'])

Auto['horsepower'].sum()


np.unique(Auto['horsepower'])


Auto.shape


Auto_new = Auto.dropna()

Auto_new.shape


Auto = Auto_new

np.unique(Auto['mpg'])


Auto.columns


Auto[:3]


idx_80 = Auto['year'] > 80

Auto[idx_80]


Auto[['mpg', 'horsepower']]


Auto.index


Auto_re = Auto.set_index('name')

Auto_re


Auto_re.columns


rows = ['amc rebel sst', 'ford torino']

Auto_re.loc[rows]


Auto_re.iloc[[3,4]]


Auto_re.iloc[[0,2,4]]


Auto_re.iloc[:4,[0,2,3]]


A = np.array(np.arange(20))
A


A = A.reshape([4,5])


idx_ = np.ix_([0,2,3], [2,3,4])

A[idx_]


Auto_re.loc[rows]


Auto_re.iloc[[3,4], [0,2,4]]


Auto_re.loc['ford galaxie 500', ['mpg', 'horsepower']]


idx_80 = Auto_re['year'] > 80
Auto_re.loc[idx_80, ['weight', 'origin']]


Auto_re.loc[lambda df: Auto_re['year'] > 80, ['weight', 'origin']]


Auto_re.loc[lambda df: (df['year'] > 80) & (df['mpg'] > 30), ['weight', 'origin']]


def sel_dis(df):
    return (df['displacement'] < 300) & ((df['year'] > 80) | (df['mpg'] > 30))

Auto_re.loc[lambda df: sel_dis(df), ['weight','origin']]


def sel_dis(df):
    return (df['displacement'] < 300) & ((df.index.str.contains('ford')) | (df.index.str.contains('datsun')))

Auto_re.loc[lambda df: sel_dis(df), ['weight','origin']]


total = 0

for val in [1,2,3,4]:
    total += val

print("The total is", total)


total = 0

for val in [1,3,24]:
    for weight in [12,4,1]:
        total += val * weight

print("Total is:", total)


total = 0

for val, weight in zip([2,3,19], [0.2,0.3,0.5]):
    total += val * weight

print("Weighted average is:", total)



