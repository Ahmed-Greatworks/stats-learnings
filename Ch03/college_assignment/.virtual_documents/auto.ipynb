import pandas as pd
import numpy as np
import matplotlib.pyplot as plt


auto = pd.read_csv('../loading_data_set/Auto.csv');


auto


auto = auto.set_index('name')
auto


np.unique(auto['horsepower'])


auto = pd.read_csv('../loading_data_set/Auto.csv', na_values='?');


auto


np.unique(auto['horsepower'])


auto['horsepower'].dtype


auto = auto.set_index('name')

auto


auto['origin'].dtype


auto = auto.dropna()
auto


np.min(auto)


np.max(auto)


auto.describe()


np.mean(auto)


auto_quatitative = auto.drop(['cylinders', 'origin'], axis=1)

np.mean(auto_quatitative[auto_quatitative.columns])


np.mean(auto.mpg)


np.mean(auto.cylinders)


np.mean(auto.displacement)


np.mean(auto.horsepower)


np.mean(auto.weight)


np.mean(auto.acceleration)


np.mean(auto.year)


for col in auto_quatitative.columns:
    if col == 'name':
        continue
    print("The mean: {0:.5} and standard deviatio: {1:.4}".format(np.mean(auto_quatitative[col]), np.std(auto_quatitative[col])))


idx_re = auto.iloc[10:85].index
auto_re = auto.drop(idx_re)
auto_re


for col in auto_re.columns:
    if col == 'name':
        continue
    template = "The range: {0} mean: {1:.5} and standard deviatio: {2:.4}"
    print(template.format(np.max(auto_re[col]) - np.min(auto_re[col]),np.mean(auto_re[col]),np.std(auto_re[col])))


fig, axs = plt.subplots(2, 2, layout='constrained')

auto1 = auto[:30]
ax = axs[0][0]
ax.plot(auto1['cylinders'], auto1['mpg'])
ax.set_title('Cylinders vs. MPG')
ax.set_ylabel('MPG')
ax.set_xlabel('Cylinders')

ax = axs[0][1]
ax.plot(np.arange(1., 0., -0.1) * 2000., np.arange(1., 0., -0.1))
ax.set_title('Title0 1')
ax.xaxis.tick_top()
ax.tick_params(axis='x', rotation=55)


for i in range(2):
    ax = axs[1][i]
    ax.plot(np.arange(1., 0., -0.1) * 2000., np.arange(1., 0., -0.1))
    ax.set_ylabel('YLabel1 %d' % i)
    ax.set_xlabel('XLabel1 %d' % i)
    if i == 0:
        ax.tick_params(axis='x', rotation=55)

fig.align_labels()  # same as fig.align_xlabels(); fig.align_ylabels()
# fig.align_titles()

plt.show()



