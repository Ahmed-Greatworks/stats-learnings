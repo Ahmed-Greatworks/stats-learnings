























print('fit a model with', 11, 'variables')






print?






3 + 5






"hello" + " " + "world"









x = [3, 4, 5]
x






y = [4, 9, 7]
x + y















import numpy as np 








x = np.array([3, 4, 5])
y = np.array([4, 9, 7])








x + y








x = np.array([[1, 2], [3, 4]])
x








x.ndim





x.dtype





np.array([[1, 2], [3.0, 4]]).dtype






np.array?






np.array([[1, 2], [3, 4]], float).dtype






x.shape






x = np.array([1, 2, 3, 4])
x.sum()





x = np.array([1, 2, 3, 4])
np.sum(x)





x = np.array([1, 2, 3, 4, 5, 6])
print('beginning x:\n', x)
x_reshape = x.reshape((2, 3))
print('reshaped x:\n', x_reshape)









x_reshape[0, 0] 





x_reshape[1, 2] 





print('x before we modify x_reshape:\n', x)
print('x_reshape before we modify x_reshape:\n', x_reshape)
x_reshape[0, 0] = 5
print('x_reshape after we modify its top left element:\n', x_reshape)
print('x after we modify top left element of x_reshape:\n', x)









my_tuple = (3, 4, 5)
my_tuple[0] = 2






x_reshape.shape, x_reshape.ndim, x_reshape.T






np.sqrt(x)






x**2






x**0.5






x = np.random.normal(size=50)
x






y = x + np.random.normal(loc=50, scale=1, size=50)





np.corrcoef(x, y)





print(np.random.normal(scale=5, size=2))
print(np.random.normal(scale=5, size=2)) 









rng = np.random.default_rng(1303)
print(rng.normal(scale=5, size=2))
rng2 = np.random.default_rng(1303)
print(rng2.normal(scale=5, size=2)) 





rng = np.random.default_rng(3)
y = rng.standard_normal(10)
np.mean(y), y.mean()





np.var(y), y.var(), np.mean((y - y.mean())**2)





np.sqrt(np.var(y)), np.std(y)





X = rng.standard_normal((10, 3))
X





X.mean(axis=0)





X.mean(0)








from matplotlib.pyplot import subplots
fig, ax = subplots(figsize=(8, 8))
x = rng.standard_normal(100)
y = rng.standard_normal(100)
ax.plot(x, y);






output = subplots(figsize=(8, 8))
fig = output[0]
ax = output[1]





fig, ax = subplots(figsize=(8, 8))
ax.plot(x, y, 'o');








fig, ax = subplots(figsize=(8, 8))
ax.scatter(x, y, marker='o');





fig, ax = subplots(figsize=(8, 8))
ax.scatter(x, y, marker='o')









fig, ax = subplots(figsize=(8, 8))
ax.scatter(x, y, marker='o')
ax.set_xlabel("this is the x-axis")
ax.set_ylabel("this is the y-axis")
ax.set_title("Plot of X vs Y");





fig.set_size_inches(12,3)
fig








fig, axes = subplots(nrows=2,
                     ncols=3,
                     figsize=(15, 5))





axes[0,1].plot(x, y, 'o')
axes[1,2].scatter(x, y, marker='+')
fig








fig.savefig("Figure.png", dpi=400)
fig.savefig("Figure.pdf", dpi=200);






axes[0,1].set_xlim([-1,1])
fig.savefig("Figure_updated.jpg")
fig





fig, ax = subplots(figsize=(8, 8))
x = np.linspace(-np.pi, np.pi, 50)
y = x
f = np.multiply.outer(np.cos(y), 1 / (1 + x**2))
ax.contour(x, y, f);






fig, ax = subplots(figsize=(8, 8))
ax.contour(x, y, f, levels=45);





fig, ax = subplots(figsize=(8, 8))
ax.imshow(f);









seq1 = np.linspace(0, 10, 11)
seq1






seq2 = np.arange(0, 10)
seq2






"hello world"[3:6]





"hello world"[slice(3,6)]









A = np.array(np.arange(16)).reshape((4, 4))
A






A[1,2]






A[[1,3]]






A[:,[0,2]]






A[[1,3],[0,2]]






np.array([A[1,0],A[3,2]])






A[[1,3],[0,2,3]]






A[[1,3]][:,[0,2]]









idx = np.ix_([1,3],[0,2,3])
A[idx]






A[1:4:2,0:3:2]












keep_rows = np.zeros(A.shape[0], bool)
keep_rows





keep_rows[[1,3]] = True
keep_rows






np.all(keep_rows == np.array([0,1,0,1]))









A[np.array([0,1,0,1])]






A[keep_rows]









keep_cols = np.zeros(A.shape[1], bool)
keep_cols[[0, 2, 3]] = True
idx_bool = np.ix_(keep_rows, keep_cols)
A[idx_bool]






idx_mixed = np.ix_([1,3], keep_cols)
A[idx_mixed]


















import pandas as pd
Auto = pd.read_csv('Auto.csv')
Auto






Auto = pd.read_csv('Auto.data', delim_whitespace=True)









Auto['horsepower']






np.unique(Auto['horsepower'])









Auto = pd.read_csv('Auto.data',
                   na_values=['?'],
                   delim_whitespace=True)
Auto['horsepower'].sum()






Auto.shape






Auto_new = Auto.dropna()
Auto_new.shape






Auto = Auto_new # overwrite the previous value
Auto.columns






Auto[:3]






idx_80 = Auto['year'] > 80
Auto[idx_80]






Auto[['mpg', 'horsepower']]






Auto.index






Auto_re = Auto.set_index('name')
Auto_re



Auto_re.columns






rows = ['amc rebel sst', 'ford torino']
Auto_re.loc[rows]






Auto_re.iloc[[3,4]]






Auto_re.iloc[:,[0,2,3]]






Auto_re.iloc[[3,4],[0,2,3]]






Auto_re.loc['ford galaxie 500', ['mpg', 'origin']]






idx_80 = Auto_re['year'] > 80
Auto_re.loc[idx_80, ['weight', 'origin']]






Auto_re.loc[lambda df: df['year'] > 80, ['weight', 'origin']]






Auto_re.loc[lambda df: (df['year'] > 80) & (df['mpg'] > 30),
            ['weight', 'origin']
           ]






Auto_re.loc[lambda df: (df['displacement'] < 300)
                       & (df.index.str.contains('ford')
                       | df.index.str.contains('datsun')),
            ['weight', 'origin']
           ]






total = 0
for value in [3,2,19]:
    total += value
print('Total is: {0}'.format(total))






total = 0
for value in [2,3,19]:
    for weight in [3, 2, 1]:
        total += value * weight
print('Total is: {0}'.format(total))





total = 0
for value, weight in zip([2,3,19],
                         [0.2,0.3,0.5]):
    total += weight * value
print('Weighted average is: {0}'.format(total))






rng = np.random.default_rng(1)
A = rng.standard_normal((127, 5))
M = rng.choice([0, np.nan], p=[0.8,0.2], size=A.shape)
A += M
D = pd.DataFrame(A, columns=['food',
                             'bar',
                             'pickle',
                             'snack',
                             'popcorn'])
D[:3]



for col in D.columns:
    template = 'Column "{0}" has {1:.2%} missing values'
    print(template.format(col,
          np.isnan(D[col]).mean()))









fig, ax = subplots(figsize=(8, 8))
ax.plot(horsepower, mpg, 'o');





fig, ax = subplots(figsize=(8, 8))
ax.plot(Auto['horsepower'], Auto['mpg'], 'o');






ax = Auto.plot.scatter('horsepower', 'mpg')
ax.set_title('Horsepower vs. MPG');





fig = ax.figure
fig.savefig('horsepower_mpg.png');





fig, axes = subplots(ncols=3, figsize=(15, 5))
Auto.plot.scatter('horsepower', 'mpg', ax=axes[1]);









Auto.cylinders = pd.Series(Auto.cylinders, dtype='category')
Auto.cylinders.dtype






fig, ax = subplots(figsize=(8, 8))
Auto.boxplot('mpg', by='cylinders', ax=ax);






fig, ax = subplots(figsize=(8, 8))
Auto.hist('mpg', ax=ax);






fig, ax = subplots(figsize=(8, 8))
Auto.hist('mpg', color='red', bins=12, ax=ax);






pd.plotting.scatter_matrix(Auto);






pd.plotting.scatter_matrix(Auto[['mpg',
                                 'displacement',
                                 'weight']]);






Auto[['mpg', 'weight']].describe()






Auto['cylinders'].describe()
Auto['mpg'].describe()




