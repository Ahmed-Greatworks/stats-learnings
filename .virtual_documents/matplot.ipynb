from matplotlib.pyplot import subplots
import numpy as np

rng = np.random.default_rng(3)

fig, ax = subplots(figsize=(8, 8))
x = rng.standard_normal(100)
y = rng.standard_normal(100)
ax.set_xlabel('x-axis')
ax.plot(x, y, 'o');


fig, ax = subplots(figsize=(8, 8))

ax.scatter(x, y, marker='o')
ax.set_xlabel("this is the x-axis")
ax.set_ylabel("this is the y-axis")
ax.set_title("Plot of X vs Y");


fig, ax = subplots(figsize=(8, 8))
x = np.linspace(-np.pi, np.pi, 50)
y=x
f = np.multiply.outer(np.cos(y), 1 / (1 + x**2))
ax.contour(x, y, f);


fig, ax = subplots(figsize=(8, 8))
ax.imshow(f);

fig.set_size_inches(12, 3)
ax.imshow(f)


fig, axes = subplots(nrows=3, ncols=3, figsize=(15, 5))


axes[0, 1].plot(x, y, 'o')
axes[1, 2].scatter(x, y, marker='+');
fig


subplots?


fig.savefig("Figure.png", dpi=400)
fig.savefig("Figure.pdf", dpi=200)


axes[0, 1].set_xlim([-1,1])
fig.savefig("Figure_updated.jpg")
fig


fig, ax = subplots(figsize=(8, 8))

x = np.linspace(-np.pi, np.pi, 50)

y = x

f = np.multiply.outer(np.cos(y), 1 / (1 + x ** 2))

ax.contour(x, y, f)


np.multiply.outer?


fig, ax = subplots(figsize=(8, 8))
ax.contour(x, y, f, levels=25);


ax.contour?


seq1 = np.linspace(0, 10, 11, dtype=int)
seq1


seq2 = np.arange(0, 10)
seq2


"Hello world!"[3:7]


A = np.array(np.arange(20)).reshape((4, 5))
A


A[1,2]


A[[1, 3]]


A[[1,2,3]]


A[:, [0,3]]


A[[0,1,3]][:, [1,3]]


A[0:3,[1, 3]]


idx = np.ix_([1,3], [0,2,4])
A[idx]


A[1:4:2, 0:3:2]


keep_row = np.zeros(A.shape[0], bool)
keep_row


keep_row[[1,3]] = True
keep_row


keep_row.ndim


np.all(keep_row == np.array([0,1,0,1]))


np.all(keep_row == np.array([0,1,0,0]))


A[np.array([0,1,0,1])]


A[keep_row]


keep_cols = np.zeros(A.shape[1], bool)
keep_cols[[0, 2, 3]] = True
idx_bool = np.ix_(keep_row, keep_cols)
A[idx_bool]


idx_mixed = np.ix_([1, 3], keep_cols)
A[idx_mixed]



