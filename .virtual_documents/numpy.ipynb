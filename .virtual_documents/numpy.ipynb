import numpy as np


x = np.array([1,2,3])

y = np.array([4,5,6])

print(x + y)


xx = np.array([[1,2,3]])

yy = np.array([[4,5,6]])

print(xx + yy)


x.ndim


xx.ndim


x.dtype


x.fun


np.array?


x.shape


xx.shape


y.sum()


x = np.array([1,2,3,4,5,6])
print('beginning x:\n', x)
x_reshape = x.reshape((2, 3)) 
print('reshaped x:\n', x_reshape)

re_x = x_reshape.reshape([-1,])
print("Back to one dimension", re_x)


x.sum?


np.sqrt(x)


x ** 2


np.random.normal?


rand = np.random.normal(size=50)
rand


rand = np.random.normal(size=50)
rand


y = rand + np.random.normal(loc=50, scale=1, size=50)


np.corrcoef?


np.corrcoef(rand, y)


print(np.random.normal(scale=5, size=2))
print(np.random.normal(scale=5, size=2))


rng1 = np.random.default_rng(1303)
print(rng1.normal(scale=5, size=2))
rng2 = np.random.default_rng(1303)
print(rng2.normal(scale=5, size=2))


rng = np.random.default_rng(3)
y = rng.standard_normal(10)
np.mean(y), y.mean()


np.var(y), y.var(), np.mean((y - y.mean()) ** 2)


X = rng.standard_normal((10, 3))
X


X.shape


X.mean(axis=0)


x = rng.standard_normal(100)
x



