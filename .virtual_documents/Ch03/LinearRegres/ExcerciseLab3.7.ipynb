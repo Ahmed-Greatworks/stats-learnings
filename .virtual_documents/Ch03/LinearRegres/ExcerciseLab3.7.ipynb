import numpy as np
import pandas as pd
from matplotlib.pyplot import subplots


import statsmodels.api as sm


from statsmodels.stats.outliers_influence import variance_inflation_factor as VIF


from statsmodels.stats.anova import anova_lm


from ISLP import load_data
from ISLP.models import (ModelSpec as MS, summarize, poly)


Auto = load_data('Auto')
Auto.head()


X = MS(['horsepower']).fit_transform(Auto)
y = Auto['mpg']
model = sm.OLS(y, X)
result = model.fit()
summarize(result)


new_df = pd.DataFrame({'horsepower': [98]})
newX = MS(['horsepower']).fit_transform(new_df)
newX


new_prediction = result.get_prediction(newX)
new_prediction.predicted_mean


new_prediction.conf_int(alpha=0.05)


new_prediction.conf_int(obs=True, alpha=0.05)


def abline(ax, b, m):
    """ Add a line with slope m and intercept b to the ax"""
    xlim = ax.get_xlim()
    ylim = [m * xlim[0] + b, m * xlim[1] + b]
    ax.plot(xlim, ylim)

def abline(ax, b, m, *args, **kwargs):
    """ Add a line with slope m and intercept b to the ax"""
    xlim = ax.get_xlim()
    ylim = [m * xlim[0] + b, m * xlim[1] + b]
    ax.plot(xlim, ylim, *args, **kwargs)


ax = Auto.plot.scatter('horsepower', 'mpg')
abline(ax, result.params.iloc[0], result.params.iloc[1], 'r--', linewidth=3)


ax = subplots(figsize=(8,8))[1]
ax.scatter(result.fittedvalues, result.resid)
ax.set_xlabel('Fitted Value')
ax.set_ylabel('Residuals')
ax.axhline(0, c='k', ls='--');


infl = result.get_influence()
ax = subplots(figsize=(8,8))[1]
ax.scatter(np.arange(X.shape[0]), infl.hat_matrix_diag)
ax.set_xlabel('Index')
ax.set_ylabel('Leverage')
np.argmax(infl.hat_matrix_diag)


pd.plotting.scatter_matrix(Auto[Auto.columns]);


matrix_corr = Auto.corr()
matrix_corr


terms = Auto.columns.drop(['mpg'])
X = MS(terms).fit_transform(Auto)
model1 = sm.OLS(y, X)
results1 = model1.fit()
summarize(results1)


anova_lm(result, results1)


X = MS(['year', 'origin', ('year', 'origin')]).fit_transform(Auto)
model2 = sm.OLS(y, X)
summarize(model2.fit())


X = MS(['horsepower', 'year', ('horsepower', 'year')]).fit_transform(Auto)
model2 = sm.OLS(y, X)
summarize(model2.fit())


Carseats = load_data('Carseats')
Carseats.head()


X = MS(['Price', 'Urban', 'US']).fit_transform(Carseats)
y = Carseats['Sales']
model2 = sm.OLS(y, X)
results2 = model2.fit()
summarize(results2)


X = MS(['Income']).fit_transform(Carseats)
model2 = sm.OLS(y, X)
results2 = model2.fit()
summarize(results2)



