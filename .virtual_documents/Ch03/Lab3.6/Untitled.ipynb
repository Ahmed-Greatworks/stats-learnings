import numpy as np
import pandas as pd
from matplotlib.pyplot import subplots


import statsmodels.api as sm
from statsmodels.stats.outliers_influence import variance_inflation_factor as VIF
from statsmodels.stats.anova import anova_lm


from ISLP import load_data
from ISLP.models import (ModelSpec as MS, summarize, poly)


# dir()
A = np.array([3,5,11])
dir(A)


A.sum()


Boston = load_data('Boston')
Boston.columns


Boston.shape


Boston.ndim
# Boston? gives us more details about this data


X = pd.DataFrame({'intercept': np.ones(Boston.shape[0]), 'lstat': Boston['lstat']})
X[:4]


y = Boston['medv']
model = sm.OLS(y, X)
results = model.fit()


summarize(results)


design = MS(['lstat'])
design = design.fit(Boston)
X = design.transform(Boston)
X[:4]


design = MS(['lstat'])
X = design.fit_transform(Boston)
X[:4]


results.summary()


results.params


newX = pd.DataFrame({'lstat': [5, 10, 15]})
newX = design.transform(newX)
newX


newX1 = pd.DataFrame({'lstat': [15,20,25]})
newX1 = MS(['lstat']).fit_transform(newX1)
newX1


new_prediction = results.get_prediction(newX)
new_prediction.predicted_mean


new_prediction.conf_int(alpha=0.05)


new_prediction1 = results.get_prediction(newX1)
new_prediction1.predicted_mean


new_prediction1.conf_int(alpha=0.05)


new_prediction.conf_int(obs=True, alpha=0.05)


def abline(ax, b, m):
    "Add a line with slope m and intercept b to ax"
    xlim = ax.get_xlim()
    ylim = [m * xlim[0] + b, m * xlim[1] + b]
    ax.plot(xlim, ylim)


def abline(ax, b, m, *args, **kwargs):
    "Add a line with slope m and intercept b to ax"
    xlim = ax.get_xlim()
    ylim = [m * xlim[0] + b, m * xlim[1] + b]
    ax.plot(xlim, ylim, *args, **kwargs)


ax = Boston.plot.scatter('lstat', 'medv')
abline(ax, results.params.iloc[0], results.params.iloc[1], 'r--', linewidth=3)


results?


dir(results)


ax = subplots(figsize=(8,8))[1]
ax.scatter(results.fittedvalues, results.resid)
ax.set_xlabel('Fitted Values')
ax.set_ylabel('Residuals')
ax.axhline(0, c='k', ls='--');



